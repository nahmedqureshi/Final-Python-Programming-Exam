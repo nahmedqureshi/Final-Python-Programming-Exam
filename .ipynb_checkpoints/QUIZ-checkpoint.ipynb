{
 "cells": [
  {
   "cell_type": "markdown",
   "id": "0419436b-78c5-41fb-89a8-67badaca5b3f",
   "metadata": {},
   "source": [
    "### Scenario 1: File Processing and Exception Handling"
   ]
  },
  {
   "cell_type": "code",
   "execution_count": 5,
   "id": "cb8b02cb-0531-416f-913d-817721fc8c4c",
   "metadata": {},
   "outputs": [
    {
     "name": "stdout",
     "output_type": "stream",
     "text": [
      "Invalid grade for Grace: Invalid Grade\n",
      "Invalid grade for Grapes: Invalid Grade\n",
      "\n",
      "Average grade of 7 valid students: 82.71\n"
     ]
    }
   ],
   "source": [
    "# student_grades.py\n",
    "\n",
    "# Custom error for invalid grades\n",
    "class InvalidGradeError(Exception):\n",
    "    pass\n",
    "\n",
    "try:\n",
    "    # Try to open the file\n",
    "    file = open(\"student_records.txt\", \"r\")\n",
    "\n",
    "    total = 0\n",
    "    count = 0\n",
    "\n",
    "    # Read each line one by one\n",
    "    for line in file:\n",
    "        name, grade = line.strip().split(\",\")\n",
    "        name = name.strip()\n",
    "        grade = grade.strip()\n",
    "\n",
    "        try:\n",
    "            # Try to change grade to number\n",
    "            grade = float(grade)\n",
    "            total += grade\n",
    "            count += 1\n",
    "        except ValueError:\n",
    "            # If not a number, raise custom error\n",
    "            print(f\"Invalid grade for {name}: {grade}\")\n",
    "\n",
    "    file.close()\n",
    "\n",
    "    # Calculate average only if we have valid grades\n",
    "    if count > 0:\n",
    "        average = total / count\n",
    "        print(f\"\\nAverage grade of {count} valid students: {average:.2f}\")\n",
    "    else:\n",
    "        print(\"No valid grades found!\")\n",
    "\n",
    "except FileNotFoundError:\n",
    "    print(\"Error: student_records.txt file not found.\")\n"
   ]
  },
  {
   "cell_type": "markdown",
   "id": "2eee477c-66fe-4fb7-a552-b4a32cab6836",
   "metadata": {},
   "source": [
    "### Scenario 2: Object-Oriented Programming and Inheritance"
   ]
  },
  {
   "cell_type": "code",
   "execution_count": 6,
   "id": "bc31ee3d-346a-4a08-b1fe-b166d482fe79",
   "metadata": {},
   "outputs": [
    {
     "name": "stdout",
     "output_type": "stream",
     "text": [
      "Toyota Corolla engine started!\n",
      "Car: 2020 Toyota Corolla, 4 doors\n",
      "Volvo FH16 engine started!\n",
      "Truck: 2018 Volvo FH16, Capacity: 20000 kg\n",
      "Yamaha R1 engine started!\n",
      "Motorcycle: 2022 Yamaha R1, Drive: chain\n"
     ]
    }
   ],
   "source": [
    "# vehicles_simple.py\n",
    "\n",
    "# Base class\n",
    "class Vehicle:\n",
    "    def __init__(self, make, model, year):\n",
    "        self.make = make\n",
    "        self.model = model\n",
    "        self.year = year\n",
    "\n",
    "    def start_engine(self):\n",
    "        print(f\"{self.make} {self.model} engine started!\")\n",
    "\n",
    "    def show_info(self):\n",
    "        print(f\"{self.year} {self.make} {self.model}\")\n",
    "\n",
    "\n",
    "# Car class (inherits from Vehicle)\n",
    "class Car(Vehicle):\n",
    "    def __init__(self, make, model, year, doors):\n",
    "        super().__init__(make, model, year)\n",
    "        self.doors = doors\n",
    "\n",
    "    def show_info(self):\n",
    "        print(f\"Car: {self.year} {self.make} {self.model}, {self.doors} doors\")\n",
    "\n",
    "\n",
    "# Truck class (inherits from Vehicle)\n",
    "class Truck(Vehicle):\n",
    "    def __init__(self, make, model, year, capacity):\n",
    "        super().__init__(make, model, year)\n",
    "        self.capacity = capacity\n",
    "\n",
    "    def show_info(self):\n",
    "        print(f\"Truck: {self.year} {self.make} {self.model}, Capacity: {self.capacity} kg\")\n",
    "\n",
    "\n",
    "# Motorcycle class (inherits from Vehicle)\n",
    "class Motorcycle(Vehicle):\n",
    "    def __init__(self, make, model, year, type_drive):\n",
    "        super().__init__(make, model, year)\n",
    "        self.type_drive = type_drive\n",
    "\n",
    "    def show_info(self):\n",
    "        print(f\"Motorcycle: {self.year} {self.make} {self.model}, Drive: {self.type_drive}\")\n",
    "\n",
    "\n",
    "# --- Test the program ---\n",
    "car = Car(\"Toyota\", \"Corolla\", 2020, 4)\n",
    "truck = Truck(\"Volvo\", \"FH16\", 2018, 20000)\n",
    "bike = Motorcycle(\"Yamaha\", \"R1\", 2022, \"chain\")\n",
    "\n",
    "car.start_engine()\n",
    "car.show_info()\n",
    "\n",
    "truck.start_engine()\n",
    "truck.show_info()\n",
    "\n",
    "bike.start_engine()\n",
    "bike.show_info()\n"
   ]
  },
  {
   "cell_type": "markdown",
   "id": "983eadf0-9a18-41c4-b4f6-889d4f1cf2c5",
   "metadata": {},
   "source": [
    "### Scenario 3: Functions and Modules (Library System)"
   ]
  },
  {
   "cell_type": "code",
   "execution_count": 7,
   "id": "0ea9ea47-d9fc-4233-b770-733c522c1207",
   "metadata": {},
   "outputs": [
    {
     "name": "stdout",
     "output_type": "stream",
     "text": [
      "\n",
      "--- Library Inventory ---\n",
      "Python Basics - Available\n",
      "AI for Kids - Available\n",
      "Learn C++ - Available\n",
      "You borrowed 'Python Basics'.\n",
      "You borrowed 'AI for Kids'.\n",
      "\n",
      "--- Library Inventory ---\n",
      "Python Basics - Borrowed\n",
      "AI for Kids - Borrowed\n",
      "Learn C++ - Available\n",
      "Book 'Python Basics' returned. Fine = Rs.8\n",
      "\n",
      "--- Borrowed Books Report ---\n",
      "AI for Kids\n",
      "\n",
      "Overdue Books:\n",
      "AI for Kids\n"
     ]
    }
   ],
   "source": [
    "# library_system.py\n",
    "import math  # for fine calculation\n",
    "\n",
    "# ---- Inventory Data ----\n",
    "inventory = {\n",
    "    \"Python Basics\": True,\n",
    "    \"AI for Kids\": True,\n",
    "    \"Learn C++\": True\n",
    "}\n",
    "\n",
    "# ---- Functions ----\n",
    "\n",
    "def add_book(title):\n",
    "    \"\"\"Add a new book to the inventory.\"\"\"\n",
    "    inventory[title] = True\n",
    "    print(f\"Book '{title}' added to the library.\")\n",
    "\n",
    "def remove_book(title):\n",
    "    \"\"\"Remove a book from the inventory.\"\"\"\n",
    "    if title in inventory:\n",
    "        del inventory[title]\n",
    "        print(f\"Book '{title}' removed from the library.\")\n",
    "    else:\n",
    "        print(f\"Book '{title}' not found.\")\n",
    "\n",
    "def show_inventory():\n",
    "    \"\"\"Display all books with their availability.\"\"\"\n",
    "    print(\"\\n--- Library Inventory ---\")\n",
    "    for title, available in inventory.items():\n",
    "        status = \"Available\" if available else \"Borrowed\"\n",
    "        print(f\"{title} - {status}\")\n",
    "\n",
    "def borrow_book(title):\n",
    "    \"\"\"Borrow a book if available.\"\"\"\n",
    "    if inventory.get(title):\n",
    "        inventory[title] = False\n",
    "        print(f\"You borrowed '{title}'.\")\n",
    "    else:\n",
    "        print(f\"'{title}' is not available or not in the library.\")\n",
    "\n",
    "def return_book(title, late_days=0):\n",
    "    \"\"\"Return a book and calculate fine if late.\"\"\"\n",
    "    if title in inventory:\n",
    "        inventory[title] = True\n",
    "        fine = math.ceil(late_days * 2.5)  # Rs.2.5 per day (rounded up)\n",
    "        if late_days > 0:\n",
    "            print(f\"Book '{title}' returned. Fine = Rs.{fine}\")\n",
    "        else:\n",
    "            print(f\"Book '{title}' returned on time. No fine.\")\n",
    "    else:\n",
    "        print(f\"Book '{title}' not recognized.\")\n",
    "\n",
    "def get_overdue_books(overdue_list):\n",
    "    \"\"\"Use lambda to filter overdue books.\"\"\"\n",
    "    overdue = list(filter(lambda x: x[\"days_late\"] > 0, overdue_list))\n",
    "    return overdue\n",
    "\n",
    "def borrowed_books_report():\n",
    "    \"\"\"Use list comprehension to show all borrowed books.\"\"\"\n",
    "    borrowed = [title for title, available in inventory.items() if not available]\n",
    "    print(\"\\n--- Borrowed Books Report ---\")\n",
    "    if borrowed:\n",
    "        for b in borrowed:\n",
    "            print(b)\n",
    "    else:\n",
    "        print(\"No borrowed books right now.\")\n",
    "\n",
    "# ---- Example usage ----\n",
    "if __name__ == \"__main__\":\n",
    "    show_inventory()\n",
    "    borrow_book(\"Python Basics\")\n",
    "    borrow_book(\"AI for Kids\")\n",
    "\n",
    "    show_inventory()\n",
    "\n",
    "    return_book(\"Python Basics\", late_days=3)\n",
    "\n",
    "    borrowed_books_report()\n",
    "\n",
    "    # Example for lambda use\n",
    "    overdue_list = [\n",
    "        {\"title\": \"AI for Kids\", \"days_late\": 5},\n",
    "        {\"title\": \"Learn C++\", \"days_late\": 0}\n",
    "    ]\n",
    "    print(\"\\nOverdue Books:\")\n",
    "    for b in get_overdue_books(overdue_list):\n",
    "        print(b[\"title\"])"
   ]
  },
  {
   "cell_type": "markdown",
   "id": "8095f40b-0ea7-4f7f-8dd7-dcac43f9bb7a",
   "metadata": {},
   "source": [
    "### Scenario 4: Debugging Code"
   ]
  },
  {
   "cell_type": "code",
   "execution_count": 16,
   "id": "41537b0f-a473-4c62-a34d-b46f8f8486e4",
   "metadata": {},
   "outputs": [],
   "source": [
    "def perform_operations(numbers):\n",
    "    total = 0\n",
    "    product = 1\n",
    "\n",
    "    for num in numbers:\n",
    "        total += num\n",
    "        product += num\n",
    "    average = total / len(numbers)\n",
    "    return total, product, average\n"
   ]
  },
  {
   "cell_type": "markdown",
   "id": "4458c0fa-4590-4870-88de-2d092a56922f",
   "metadata": {},
   "source": [
    "### Corrected and explained version:"
   ]
  },
  {
   "cell_type": "code",
   "execution_count": 12,
   "id": "a4955c94-002a-4765-b577-8390f5770194",
   "metadata": {},
   "outputs": [
    {
     "name": "stdout",
     "output_type": "stream",
     "text": [
      "Total: 15\n",
      "Product: 120\n",
      "Average: 3.0\n"
     ]
    }
   ],
   "source": [
    "# debugging_script_fixed.py\n",
    "\n",
    "def perform_operations(numbers):\n",
    "    total = 0\n",
    "    product = 1\n",
    "\n",
    "    # Loop through each number\n",
    "    for num in numbers:\n",
    "        total += num          # add the numbers\n",
    "        product *= num        # multiply the numbers\n",
    "\n",
    "    average = total / len(numbers)\n",
    "    return total, product, average\n",
    "\n",
    "\n",
    "# Test the function\n",
    "nums = [1, 2, 3, 4, 5]\n",
    "t, p, a = perform_operations(nums)\n",
    "\n",
    "print(\"Total:\", t)\n",
    "print(\"Product:\", p)\n",
    "print(\"Average:\", a)\n"
   ]
  },
  {
   "cell_type": "markdown",
   "id": "f98f9076-8214-41bd-a92f-90d2f905fd41",
   "metadata": {},
   "source": [
    "0308-1033884 Nabeel"
   ]
  },
  {
   "cell_type": "code",
   "execution_count": null,
   "id": "4ded2f24-abac-49b7-b960-71c109c4892a",
   "metadata": {},
   "outputs": [],
   "source": []
  }
 ],
 "metadata": {
  "kernelspec": {
   "display_name": "Python [conda env:base] *",
   "language": "python",
   "name": "conda-base-py"
  },
  "language_info": {
   "codemirror_mode": {
    "name": "ipython",
    "version": 3
   },
   "file_extension": ".py",
   "mimetype": "text/x-python",
   "name": "python",
   "nbconvert_exporter": "python",
   "pygments_lexer": "ipython3",
   "version": "3.13.5"
  }
 },
 "nbformat": 4,
 "nbformat_minor": 5
}
